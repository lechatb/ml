{
 "cells": [
  {
   "cell_type": "code",
   "execution_count": 1,
   "id": "5bfaaebb",
   "metadata": {},
   "outputs": [],
   "source": [
    "#PyRSS2Gen\n",
    "#Feedparser\n",
    "#Newspaper3k\n",
    "#Beautiful Soup\n",
    "#Requests library\n",
    "\n",
    "\n",
    "import newspaper"
   ]
  },
  {
   "cell_type": "code",
   "execution_count": 2,
   "id": "81fe3d1a",
   "metadata": {},
   "outputs": [],
   "source": [
    "#ria_paper = newspaper.build('https://tass.ru/', language='ru')\n",
    "ria_paper = newspaper.build('http://cnn.com')\n"
   ]
  },
  {
   "cell_type": "code",
   "execution_count": 3,
   "id": "dada4cd9",
   "metadata": {},
   "outputs": [],
   "source": [
    "for article in ria_paper.articles:\n",
    "    print(article.url)"
   ]
  },
  {
   "cell_type": "code",
   "execution_count": 4,
   "id": "616980ea",
   "metadata": {},
   "outputs": [
    {
     "ename": "IndexError",
     "evalue": "list index out of range",
     "output_type": "error",
     "traceback": [
      "\u001b[1;31m---------------------------------------------------------------------------\u001b[0m",
      "\u001b[1;31mIndexError\u001b[0m                                Traceback (most recent call last)",
      "\u001b[1;32mD:\\tmp\\ipykernel_2808\\1161196180.py\u001b[0m in \u001b[0;36m<module>\u001b[1;34m\u001b[0m\n\u001b[1;32m----> 1\u001b[1;33m \u001b[0marticle\u001b[0m \u001b[1;33m=\u001b[0m \u001b[0mria_paper\u001b[0m\u001b[1;33m.\u001b[0m\u001b[0marticles\u001b[0m\u001b[1;33m[\u001b[0m\u001b[1;36m0\u001b[0m\u001b[1;33m]\u001b[0m\u001b[1;33m\u001b[0m\u001b[1;33m\u001b[0m\u001b[0m\n\u001b[0m\u001b[0;32m      2\u001b[0m \u001b[0marticle\u001b[0m\u001b[1;33m.\u001b[0m\u001b[0mdownload\u001b[0m\u001b[1;33m(\u001b[0m\u001b[1;33m)\u001b[0m\u001b[1;33m\u001b[0m\u001b[1;33m\u001b[0m\u001b[0m\n\u001b[0;32m      3\u001b[0m \u001b[0marticle\u001b[0m\u001b[1;33m.\u001b[0m\u001b[0mparse\u001b[0m\u001b[1;33m(\u001b[0m\u001b[1;33m)\u001b[0m\u001b[1;33m\u001b[0m\u001b[1;33m\u001b[0m\u001b[0m\n",
      "\u001b[1;31mIndexError\u001b[0m: list index out of range"
     ]
    }
   ],
   "source": [
    "article = ria_paper.articles[0]\n",
    "article.download()\n",
    "article.parse()"
   ]
  },
  {
   "cell_type": "code",
   "execution_count": 1,
   "id": "8fdafedd",
   "metadata": {},
   "outputs": [
    {
     "ename": "ArticleException",
     "evalue": "Article `download()` failed with HTTPConnectionPool(host='%20timesofindia.indiatimes.com', port=80): Max retries exceeded with url: /world/china/chinese-expert-warns-of-troops-entering-kashmir/articleshow/59516912.cms (Caused by NewConnectionError('<urllib3.connection.HTTPConnection object at 0x0000015A04A3BBB0>: Failed to establish a new connection: [Errno 11001] getaddrinfo failed')) on URL http:// timesofindia.indiatimes.com/world/china/chinese-expert-warns-of-troops-entering-kashmir/articleshow/59516912.cms",
     "output_type": "error",
     "traceback": [
      "\u001b[1;31m---------------------------------------------------------------------------\u001b[0m",
      "\u001b[1;31mArticleException\u001b[0m                          Traceback (most recent call last)",
      "\u001b[1;32mD:\\tmp\\ipykernel_15652\\3521034982.py\u001b[0m in \u001b[0;36m<module>\u001b[1;34m\u001b[0m\n\u001b[0;32m     11\u001b[0m \u001b[1;33m\u001b[0m\u001b[0m\n\u001b[0;32m     12\u001b[0m \u001b[1;31m#To parse the article\u001b[0m\u001b[1;33m\u001b[0m\u001b[1;33m\u001b[0m\u001b[0m\n\u001b[1;32m---> 13\u001b[1;33m \u001b[0mtoi_article\u001b[0m\u001b[1;33m.\u001b[0m\u001b[0mparse\u001b[0m\u001b[1;33m(\u001b[0m\u001b[1;33m)\u001b[0m\u001b[1;33m\u001b[0m\u001b[1;33m\u001b[0m\u001b[0m\n\u001b[0m\u001b[0;32m     14\u001b[0m \u001b[1;33m\u001b[0m\u001b[0m\n\u001b[0;32m     15\u001b[0m \u001b[1;31m#To perform natural language processing ie..nlp\u001b[0m\u001b[1;33m\u001b[0m\u001b[1;33m\u001b[0m\u001b[0m\n",
      "\u001b[1;32mD:\\anaconda3\\lib\\site-packages\\newspaper\\article.py\u001b[0m in \u001b[0;36mparse\u001b[1;34m(self)\u001b[0m\n\u001b[0;32m    189\u001b[0m \u001b[1;33m\u001b[0m\u001b[0m\n\u001b[0;32m    190\u001b[0m     \u001b[1;32mdef\u001b[0m \u001b[0mparse\u001b[0m\u001b[1;33m(\u001b[0m\u001b[0mself\u001b[0m\u001b[1;33m)\u001b[0m\u001b[1;33m:\u001b[0m\u001b[1;33m\u001b[0m\u001b[1;33m\u001b[0m\u001b[0m\n\u001b[1;32m--> 191\u001b[1;33m         \u001b[0mself\u001b[0m\u001b[1;33m.\u001b[0m\u001b[0mthrow_if_not_downloaded_verbose\u001b[0m\u001b[1;33m(\u001b[0m\u001b[1;33m)\u001b[0m\u001b[1;33m\u001b[0m\u001b[1;33m\u001b[0m\u001b[0m\n\u001b[0m\u001b[0;32m    192\u001b[0m \u001b[1;33m\u001b[0m\u001b[0m\n\u001b[0;32m    193\u001b[0m         \u001b[0mself\u001b[0m\u001b[1;33m.\u001b[0m\u001b[0mdoc\u001b[0m \u001b[1;33m=\u001b[0m \u001b[0mself\u001b[0m\u001b[1;33m.\u001b[0m\u001b[0mconfig\u001b[0m\u001b[1;33m.\u001b[0m\u001b[0mget_parser\u001b[0m\u001b[1;33m(\u001b[0m\u001b[1;33m)\u001b[0m\u001b[1;33m.\u001b[0m\u001b[0mfromstring\u001b[0m\u001b[1;33m(\u001b[0m\u001b[0mself\u001b[0m\u001b[1;33m.\u001b[0m\u001b[0mhtml\u001b[0m\u001b[1;33m)\u001b[0m\u001b[1;33m\u001b[0m\u001b[1;33m\u001b[0m\u001b[0m\n",
      "\u001b[1;32mD:\\anaconda3\\lib\\site-packages\\newspaper\\article.py\u001b[0m in \u001b[0;36mthrow_if_not_downloaded_verbose\u001b[1;34m(self)\u001b[0m\n\u001b[0;32m    529\u001b[0m             \u001b[1;32mraise\u001b[0m \u001b[0mArticleException\u001b[0m\u001b[1;33m(\u001b[0m\u001b[1;34m'You must `download()` an article first!'\u001b[0m\u001b[1;33m)\u001b[0m\u001b[1;33m\u001b[0m\u001b[1;33m\u001b[0m\u001b[0m\n\u001b[0;32m    530\u001b[0m         \u001b[1;32melif\u001b[0m \u001b[0mself\u001b[0m\u001b[1;33m.\u001b[0m\u001b[0mdownload_state\u001b[0m \u001b[1;33m==\u001b[0m \u001b[0mArticleDownloadState\u001b[0m\u001b[1;33m.\u001b[0m\u001b[0mFAILED_RESPONSE\u001b[0m\u001b[1;33m:\u001b[0m\u001b[1;33m\u001b[0m\u001b[1;33m\u001b[0m\u001b[0m\n\u001b[1;32m--> 531\u001b[1;33m             raise ArticleException('Article `download()` failed with %s on URL %s' %\n\u001b[0m\u001b[0;32m    532\u001b[0m                   (self.download_exception_msg, self.url))\n\u001b[0;32m    533\u001b[0m \u001b[1;33m\u001b[0m\u001b[0m\n",
      "\u001b[1;31mArticleException\u001b[0m: Article `download()` failed with HTTPConnectionPool(host='%20timesofindia.indiatimes.com', port=80): Max retries exceeded with url: /world/china/chinese-expert-warns-of-troops-entering-kashmir/articleshow/59516912.cms (Caused by NewConnectionError('<urllib3.connection.HTTPConnection object at 0x0000015A04A3BBB0>: Failed to establish a new connection: [Errno 11001] getaddrinfo failed')) on URL http:// timesofindia.indiatimes.com/world/china/chinese-expert-warns-of-troops-entering-kashmir/articleshow/59516912.cms"
     ]
    }
   ],
   "source": [
    "from newspaper import Article\n",
    " \n",
    "#A new article from TOI\n",
    "url = \"http:// timesofindia.indiatimes.com/world/china/chinese-expert-warns-of-troops-entering-kashmir/articleshow/59516912.cms\"\n",
    " \n",
    "#For different language newspaper refer above table\n",
    "toi_article = Article(url, language=\"en\") # en for English\n",
    " \n",
    "#To download the article\n",
    "toi_article.download()\n",
    " \n",
    "#To parse the article\n",
    "toi_article.parse()\n",
    " \n",
    "#To perform natural language processing ie..nlp\n",
    "toi_article.nlp()\n",
    " \n",
    "#To extract title\n",
    "print(\"Article's Title:\")\n",
    "print(toi_article.title)\n",
    "print(\"n\")\n",
    " \n",
    "#To extract text\n",
    "print(\"Article's Text:\")\n",
    "print(toi_article.text)\n",
    "print(\"n\")\n",
    " \n",
    "#To extract summary\n",
    "print(\"Article's Summary:\")\n",
    "print(toi_article.summary)\n",
    "print(\"n\")\n",
    " \n",
    "#To extract keywords\n",
    "print(\"Article's Keywords:\")\n",
    "print(toi_article.keywords)"
   ]
  },
  {
   "cell_type": "code",
   "execution_count": null,
   "id": "3b15943c",
   "metadata": {},
   "outputs": [],
   "source": [
    "News Reader (https ://pypi.org/project/news-reader/)\n",
    "PyRSS2Gen (https://pypi.org/project/PyRSS2Gen/)\n",
    "Feedparser (https://pypi.org/project/feedparser/)\n",
    "Newspaper3k (https://pypi.org/project/newspaper3k/)\n",
    "RssReader (https://pypi.org/project/rssreader/)\n",
    "Feedreader (https://pypi.org/project/feedreader/)\n",
    "Feeds (https://pypi.org/project/feeds/)\n",
    "PyRSS (https://pypi.org/project/PyRSS/)\n",
    "PyRSS2 (https://pypi.org/project/PyRSS2/)\n",
    "PyRSS2Gen_fork (https://pypi.org/project/PyRSS2Gen_fork/)"
   ]
  }
 ],
 "metadata": {
  "kernelspec": {
   "display_name": "Python 3 (ipykernel)",
   "language": "python",
   "name": "python3"
  },
  "language_info": {
   "codemirror_mode": {
    "name": "ipython",
    "version": 3
   },
   "file_extension": ".py",
   "mimetype": "text/x-python",
   "name": "python",
   "nbconvert_exporter": "python",
   "pygments_lexer": "ipython3",
   "version": "3.9.12"
  }
 },
 "nbformat": 4,
 "nbformat_minor": 5
}
