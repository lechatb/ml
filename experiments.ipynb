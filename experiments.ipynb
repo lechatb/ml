{
 "cells": [
  {
   "cell_type": "code",
   "execution_count": 17,
   "id": "3e5a7ce0",
   "metadata": {},
   "outputs": [
    {
     "name": "stdout",
     "output_type": "stream",
     "text": [
      "[('яблакококококок', 90), ('яблоко', 83)]\n",
      "83 57\n"
     ]
    }
   ],
   "source": [
    "from fuzzywuzzy import process, fuzz\n",
    "\n",
    "matches = process.extract('яблако', ['яблоко', 'яблакококококок'])\n",
    "\n",
    "print( matches)\n",
    "\n",
    "print( fuzz.ratio('яблако', 'яблоко'), fuzz.ratio('яблако', 'яблакококококок')) "
   ]
  },
  {
   "cell_type": "code",
   "execution_count": 18,
   "id": "0b77f5b2",
   "metadata": {},
   "outputs": [
    {
     "name": "stdout",
     "output_type": "stream",
     "text": [
      "1\n",
      "9\n"
     ]
    }
   ],
   "source": [
    "import Levenshtein as lev\n",
    "\n",
    "print(lev.distance('яблако', 'яблоко'))\n",
    "print(lev.distance('яблако', 'яблакококококок'))\n"
   ]
  }
 ],
 "metadata": {
  "kernelspec": {
   "display_name": "Python 3",
   "language": "python",
   "name": "python3"
  },
  "language_info": {
   "codemirror_mode": {
    "name": "ipython",
    "version": 3
   },
   "file_extension": ".py",
   "mimetype": "text/x-python",
   "name": "python",
   "nbconvert_exporter": "python",
   "pygments_lexer": "ipython3",
   "version": "3.9.16"
  },
  "vscode": {
   "interpreter": {
    "hash": "6f672a493848f03cd2f8abd9b9e53042431f876dc5e0c62445557f904705f93d"
   }
  }
 },
 "nbformat": 4,
 "nbformat_minor": 5
}
